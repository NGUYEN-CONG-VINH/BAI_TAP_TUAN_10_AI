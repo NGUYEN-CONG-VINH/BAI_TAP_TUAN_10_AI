{
  "nbformat": 4,
  "nbformat_minor": 0,
  "metadata": {
    "colab": {
      "provenance": [],
      "authorship_tag": "ABX9TyMBDDhrA/Lf0pu9J19bCk2o",
      "include_colab_link": true
    },
    "kernelspec": {
      "name": "python3",
      "display_name": "Python 3"
    },
    "language_info": {
      "name": "python"
    }
  },
  "cells": [
    {
      "cell_type": "markdown",
      "metadata": {
        "id": "view-in-github",
        "colab_type": "text"
      },
      "source": [
        "<a href=\"https://colab.research.google.com/github/NGUYEN-CONG-VINH/BAI_TAP_TUAN_10_AI/blob/main/cifar100.ipynb\" target=\"_parent\"><img src=\"https://colab.research.google.com/assets/colab-badge.svg\" alt=\"Open In Colab\"/></a>"
      ]
    },
    {
      "cell_type": "code",
      "execution_count": null,
      "metadata": {
        "colab": {
          "base_uri": "https://localhost:8080/"
        },
        "id": "iD3sIzDxRFUP",
        "outputId": "c86c2884-043e-4f4e-a374-0a3dcb6ef0e5"
      },
      "outputs": [
        {
          "output_type": "stream",
          "name": "stdout",
          "text": [
            "Mounted at /content/drive\n"
          ]
        }
      ],
      "source": [
        "from google.colab import drive\n",
        "drive.mount('/content/drive')"
      ]
    },
    {
      "cell_type": "code",
      "source": [
        "from keras.datasets import cifar100\n",
        "(x_train,y_train),(x_test,y_test)=cifar100.load_data()"
      ],
      "metadata": {
        "id": "QNtfznuhRUwd"
      },
      "execution_count": null,
      "outputs": []
    },
    {
      "cell_type": "code",
      "source": [
        "print(x_train.shape)\n",
        "print(y_train.shape)\n",
        "print(x_test.shape)\n",
        "print(y_test.shape)"
      ],
      "metadata": {
        "colab": {
          "base_uri": "https://localhost:8080/"
        },
        "id": "4YcrTIMKR3Mf",
        "outputId": "b0dd0202-30c1-412c-e908-e727cd94606a"
      },
      "execution_count": null,
      "outputs": [
        {
          "output_type": "stream",
          "name": "stdout",
          "text": [
            "(50000, 32, 32, 3)\n",
            "(50000, 1)\n",
            "(10000, 32, 32, 3)\n",
            "(10000, 1)\n"
          ]
        }
      ]
    },
    {
      "cell_type": "code",
      "source": [],
      "metadata": {
        "id": "5V3uzihDZatZ"
      },
      "execution_count": null,
      "outputs": []
    },
    {
      "cell_type": "code",
      "source": [
        "x_train=x_train.reshape(50000,32*32*3)\n",
        "x_train=x_train.astype('float32')/255\n",
        "\n",
        "x_test=x_test.reshape(10000,32*32*3)\n",
        "x_test=x_test.astype('float32')/255"
      ],
      "metadata": {
        "id": "is5eJGvqT-Z8"
      },
      "execution_count": null,
      "outputs": []
    },
    {
      "cell_type": "code",
      "source": [
        "from keras.utils import to_categorical\n",
        "y_train=to_categorical(y_train,100)#nên đổi tên biến\n",
        "y_test=to_categorical(y_test,100)"
      ],
      "metadata": {
        "id": "y-Uo3RN7Uj9f"
      },
      "execution_count": null,
      "outputs": []
    },
    {
      "cell_type": "code",
      "source": [
        "from tensorflow.python import summary\n",
        "from keras.models import Sequential\n",
        "from keras.layers import Dense\n",
        "Model=Sequential()\n",
        "Model.add(Dense(2000,input_shape=(32*32*3,),activation='relu'))\n",
        "Model.add(Dense(1000,activation='relu'))\n",
        "Model.add(Dense(100,activation='softmax'))\n",
        "Model.summary()"
      ],
      "metadata": {
        "colab": {
          "base_uri": "https://localhost:8080/"
        },
        "id": "Ggwa8D54SO5d",
        "outputId": "23064122-46de-46e1-e4f0-01a926e555c2"
      },
      "execution_count": null,
      "outputs": [
        {
          "output_type": "stream",
          "name": "stdout",
          "text": [
            "Model: \"sequential_3\"\n",
            "_________________________________________________________________\n",
            " Layer (type)                Output Shape              Param #   \n",
            "=================================================================\n",
            " dense_3 (Dense)             (None, 2000)              6146000   \n",
            "                                                                 \n",
            " dense_4 (Dense)             (None, 1000)              2001000   \n",
            "                                                                 \n",
            " dense_5 (Dense)             (None, 100)               100100    \n",
            "                                                                 \n",
            "=================================================================\n",
            "Total params: 8,247,100\n",
            "Trainable params: 8,247,100\n",
            "Non-trainable params: 0\n",
            "_________________________________________________________________\n"
          ]
        }
      ]
    },
    {
      "cell_type": "code",
      "source": [
        "Model.compile(optimizer = 'rmsprop', loss = 'categorical_crossentropy', metrics= 'accuracy')\n",
        "Model.fit(x_train, y_train, epochs = 10, batch_size= 128)\n",
        "acc, loss = Model.evaluate(x_test, y_test)\n",
        "print(acc)\n",
        "print(loss)\n"
      ],
      "metadata": {
        "colab": {
          "base_uri": "https://localhost:8080/"
        },
        "id": "nOZmgyLKXOul",
        "outputId": "b857b6ab-b13f-47e6-babf-af8560c9891a"
      },
      "execution_count": null,
      "outputs": [
        {
          "output_type": "stream",
          "name": "stdout",
          "text": [
            "Epoch 1/10\n",
            "391/391 [==============================] - 82s 207ms/step - loss: 4.2772 - accuracy: 0.0701\n",
            "Epoch 2/10\n",
            "391/391 [==============================] - 74s 189ms/step - loss: 3.7239 - accuracy: 0.1299\n",
            "Epoch 3/10\n",
            "391/391 [==============================] - 74s 188ms/step - loss: 3.5347 - accuracy: 0.1659\n",
            "Epoch 4/10\n",
            "391/391 [==============================] - 73s 187ms/step - loss: 3.4036 - accuracy: 0.1883\n",
            "Epoch 5/10\n",
            "391/391 [==============================] - 76s 195ms/step - loss: 3.2993 - accuracy: 0.2085\n",
            "Epoch 6/10\n",
            "391/391 [==============================] - 73s 187ms/step - loss: 3.2129 - accuracy: 0.2235\n",
            "Epoch 7/10\n",
            "391/391 [==============================] - 76s 193ms/step - loss: 3.1269 - accuracy: 0.2396\n",
            "Epoch 8/10\n",
            "391/391 [==============================] - 72s 184ms/step - loss: 3.0518 - accuracy: 0.2544\n",
            "Epoch 9/10\n",
            "391/391 [==============================] - 71s 181ms/step - loss: 2.9725 - accuracy: 0.2695\n",
            "Epoch 10/10\n",
            "391/391 [==============================] - 74s 188ms/step - loss: 2.8956 - accuracy: 0.2839\n",
            "313/313 [==============================] - 6s 20ms/step - loss: 3.3698 - accuracy: 0.2166\n",
            "3.3698410987854004\n",
            "0.21660000085830688\n"
          ]
        }
      ]
    },
    {
      "cell_type": "code",
      "source": [
        "Model.save('/content/drive/MyDrive/colab/model1.h5')"
      ],
      "metadata": {
        "id": "PonLaabKZdFT"
      },
      "execution_count": null,
      "outputs": []
    },
    {
      "cell_type": "code",
      "source": [
        "from keras.models import load_model\n",
        "model100=load_model('/content/drive/MyDrive/colab/model1.h5')"
      ],
      "metadata": {
        "id": "kijG_nq1bcHl"
      },
      "execution_count": null,
      "outputs": []
    },
    {
      "cell_type": "code",
      "source": [],
      "metadata": {
        "id": "vtRg4fj9eOQg"
      },
      "execution_count": null,
      "outputs": []
    }
  ]
}